{
 "cells": [
  {
   "cell_type": "markdown",
   "metadata": {},
   "source": [
    "# Finding ground states with DMRG"
   ]
  },
  {
   "cell_type": "code",
   "execution_count": 1,
   "metadata": {},
   "outputs": [],
   "source": [
    "using MPStates, LinearAlgebra, Test"
   ]
  },
  {
   "cell_type": "markdown",
   "metadata": {},
   "source": [
    "Let's first define an `Mps` and create a Hubbard Hamiltonian like\n",
    "$$ H = 0.5\\sum^{L-1}_{i=1} c^\\dagger_i c_{i+1} + 0.7\\sum^{L-1}_{i=1} n_i n_{i+1} $$"
   ]
  },
  {
   "cell_type": "code",
   "execution_count": 2,
   "metadata": {},
   "outputs": [],
   "source": [
    "# Number of sites.\n",
    "L = 10\n",
    "# Type of the Mps.\n",
    "T = Float64\n",
    "# Physical dimension.\n",
    "d = 2\n",
    "\n",
    "psi = init_mps(Float64, L, \"W\", d);\n",
    "\n",
    "# Matrices that describe the Hamiltonian.\n",
    "# Hopping matrix.\n",
    "J = 0.5*Symmetric(diagm(1 => ones(L-1)))\n",
    "# Interaction matrix.\n",
    "V = 0.7*diagm(1 => ones(L-1))\n",
    "\n",
    "# Build the Hamiltonian.\n",
    "H = init_mpo(T, L, d)\n",
    "add_ops!(H, \"c+\", \"c\", J, ferm_op=\"Z\")\n",
    "add_ops!(H, \"n\", \"n\", V);"
   ]
  },
  {
   "cell_type": "markdown",
   "metadata": {},
   "source": [
    "# DMRG minimization algorithm\n",
    "\n",
    "This is done with the `minimize!` function. It accepts as input an `Mps`, the objective `Mpo`, and a set of minimization options. These options are a structure `MinimizeOpts` with fields:\n",
    "* `algorithm::String`: DMRG algorithm used for minimizing the state. Can be:\n",
    "  - `\"DMRG1\"` for one site DMRG.\n",
    "  - `\"DMRG2\"` for two site DMRG.\n",
    "  - `\"DMRG3S\"` for strictly single site DMRG with subspace expansion, an improved version of the one site DMRG algorithm that doesn't get trapped in local minima.\n",
    "* `tol::Float64`: stop the algorithm when the change in the variance of the\n",
    "        state is less than `tol`.\n",
    "* `max_sweeps::Int`: maximum number of sweeps allowed.\n",
    "* `debug::Int`: output information at every step of the minmization:\n",
    "  * `0`: no info given.\n",
    "  * `1`: energy, variance and their variation with respect to their last\n",
    "       value after every right + left sweep.\n",
    "  * `2`: energy and size of the local Hamiltonian at every step of every\n",
    "            sweep.\n",
    "* `sweep_dims::Vector{Int}`: maximum bond dimension at every sweep.\n",
    "\n",
    "There are some short functions to start the options with predefined values."
   ]
  },
  {
   "cell_type": "code",
   "execution_count": 3,
   "metadata": {},
   "outputs": [
    {
     "name": "stdout",
     "output_type": "stream",
     "text": [
      "Done sweep 2, bond dimension: 10\n",
      "    E: -2.281251e+00, ΔE: -3.18e+00\n",
      "    var: 3.373455e-01, Δvar: 2.97e-01\n",
      "Done sweep 3, bond dimension: 10\n",
      "    E: -2.334551e+00, ΔE: -5.33e-02\n",
      "    var: 2.500887e-01, Δvar: -8.73e-02\n",
      "Done sweep 4, bond dimension: 20\n",
      "    E: -2.335560e+00, ΔE: -1.01e-03\n",
      "    var: 2.409670e-01, Δvar: -9.12e-03\n",
      "Done sweep 5, bond dimension: 20\n",
      "    E: -2.335593e+00, ΔE: -3.35e-05\n",
      "    var: 2.393156e-01, Δvar: -1.65e-03\n",
      "Done sweep 6, bond dimension: 20\n",
      "    E: -2.335595e+00, ΔE: -1.37e-06\n",
      "    var: 2.389822e-01, Δvar: -3.33e-04\n",
      "Done sweep 7, bond dimension: 40\n",
      "    E: -2.335595e+00, ΔE: -5.86e-08\n",
      "    var: 2.389135e-01, Δvar: -6.87e-05\n",
      "Done sweep 8, bond dimension: 40\n",
      "    E: -2.335595e+00, ΔE: -2.53e-09\n",
      "    var: 2.388993e-01, Δvar: -1.42e-05\n",
      "Done sweep 9, bond dimension: 40\n",
      "    E: -2.335595e+00, ΔE: -1.10e-10\n",
      "    var: 2.388963e-01, Δvar: -2.95e-06\n",
      "Done sweep 10, bond dimension: 40\n",
      "    E: -2.335595e+00, ΔE: -4.78e-12\n",
      "    var: 2.388957e-01, Δvar: -6.14e-07\n",
      "Done sweep 11, bond dimension: 40\n",
      "    E: -2.335595e+00, ΔE: -2.11e-13\n",
      "    var: 2.388956e-01, Δvar: -1.28e-07\n",
      "Done sweep 12, bond dimension: 40\n",
      "    E: -2.335595e+00, ΔE: -8.44e-15\n",
      "    var: 2.388956e-01, Δvar: -2.66e-08\n",
      "The energy after each sweep was: [0.9000000000000002, -2.2812509783079364, -2.33455074588714, -2.3355597940823523, -2.335593316149628, -2.335594686880815, -2.3355947454587653, -2.3355947479921944, -2.3355947481022064, -2.3355947481069883, -2.3355947481071997, -2.335594748107208]\n"
     ]
    }
   ],
   "source": [
    "# Maximum bond dimension.\n",
    "m = 60\n",
    "min_opts1 = MinimizeOpts(m, \"DMRG1\")\n",
    "min_opts1_with_some_debugging = MinimizeOpts(m, \"DMRG1\", debug=1)\n",
    "\n",
    "# Bond dimension of the sweeps that we want.\n",
    "sweep_dims = [10, 10, 10, 20, 20, 20, 40, 40, 40, 40, 40, 40]\n",
    "min_opts2 = MinimizeOpts(sweep_dims, \"DMRG1\")\n",
    "min_opts2_with_some_debugging = MinimizeOpts(sweep_dims, \"DMRG1\", debug=1)\n",
    "\n",
    "# Now let's find the ground state.\n",
    "E, var = minimize!(psi, H, min_opts2_with_some_debugging)\n",
    "\n",
    "println(\"The energy after each sweep was: $E\")"
   ]
  }
 ],
 "metadata": {
  "kernelspec": {
   "display_name": "Julia 1.2.0-rc1",
   "language": "julia",
   "name": "julia-1.2"
  },
  "language_info": {
   "file_extension": ".jl",
   "mimetype": "application/julia",
   "name": "julia",
   "version": "1.2.0"
  }
 },
 "nbformat": 4,
 "nbformat_minor": 2
}
