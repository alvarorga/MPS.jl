{
 "cells": [
  {
   "cell_type": "markdown",
   "metadata": {},
   "source": [
    "# Finding ground states with DMRG"
   ]
  },
  {
   "cell_type": "code",
   "execution_count": 1,
   "metadata": {},
   "outputs": [],
   "source": [
    "using MPStates, LinearAlgebra, Test"
   ]
  },
  {
   "cell_type": "markdown",
   "metadata": {},
   "source": [
    "Let's first define an `Mps` and create a Hubbard Hamiltonian like\n",
    "$$ H = 0.5\\sum^{L-1}_{i=1} c^\\dagger_i c_{i+1} + 0.7\\sum^{L-1}_{i=1} n_i n_{i+1} $$"
   ]
  },
  {
   "cell_type": "code",
   "execution_count": 2,
   "metadata": {},
   "outputs": [],
   "source": [
    "# Number of sites.\n",
    "L = 10\n",
    "# Type of the Mps.\n",
    "T = Float64\n",
    "# Physical dimension.\n",
    "d = 2\n",
    "\n",
    "psi = Mps(Float64, L, \"W\");\n",
    "\n",
    "# Matrices that describe the Hamiltonian.\n",
    "# Hopping matrix.\n",
    "J = 0.5*Symmetric(diagm(1 => ones(L-1)))\n",
    "# Interaction matrix.\n",
    "V = 0.7*diagm(1 => ones(L-1))\n",
    "\n",
    "# Build the Hamiltonian.\n",
    "H = Mpo(T, L, d)\n",
    "add_ops!(H, \"c+\", \"c\", J, ferm_op=\"Z\")\n",
    "add_ops!(H, \"n\", \"n\", V);"
   ]
  },
  {
   "cell_type": "markdown",
   "metadata": {},
   "source": [
    "# DMRG minimization algorithm\n",
    "\n",
    "This is done with the `dmrg!` function. It accepts as input an `Mps`, the objective `Mpo`, and a set of options for the DMRG algorithm. These options are a structure `DMRGOpts` with fields:\n",
    "* `algorithm::String`: DMRG algorithm used for minimizing the state. Can be:\n",
    "  - `\"DMRG1\"` for one site DMRG.\n",
    "  - `\"DMRG2\"` for two site DMRG.\n",
    "  - `\"DMRG3S\"` for strictly single site DMRG with subspace expansion, an improved version of the one site DMRG algorithm that doesn't get trapped in local minima (https://arxiv.org/abs/1501.05504).\n",
    "* `nsweeps::Int`: number of sweeps.\n",
    "* `maxm::Vector{Int}`: maximum bond dimension at every sweep.\n",
    "* `cutoff::Vector{Float64}`: cutoff in SVD factorization at every sweep.\n",
    "* `dmrg_tol::Float64`: stop the algorithm when the change in the variance of the\n",
    "        state is less than dmrg_tol.\n",
    "* `show_trace::Int`: output information at every step of the minmization:\n",
    "        - 0: no info given.\n",
    "        - 1: energy, variance and their variation with respect to their last\n",
    "            value after every right + left sweep.\n",
    "        - 2: energy and size of the local Hamiltonian at every step of every\n",
    "            sweep.\n",
    "* `lanczos_iters::Int`: number of maximum iterations in Arpack solver for\n",
    "        minimizing local Hamiltonians.\n",
    "* `α::Float64`: noise term in DMRG3S."
   ]
  },
  {
   "cell_type": "code",
   "execution_count": 3,
   "metadata": {},
   "outputs": [
    {
     "name": "stdout",
     "output_type": "stream",
     "text": [
      "Done sweep 1, max bond dimension: 8\n",
      "    E: -2.581036e+00, ΔE: -1.00e+05\n",
      "    var: 5.102695e-03, Δvar: -1.00e+05\n",
      "    Elapsed time: 3.967707433 s\n",
      "Done sweep 2, max bond dimension: 8\n",
      "    E: -2.586807e+00, ΔE: -5.77e-03\n",
      "    var: 2.445423e-03, Δvar: -2.66e-03\n",
      "    Elapsed time: 0.018160865 s\n",
      "Done sweep 3, max bond dimension: 8\n",
      "    E: -2.586809e+00, ΔE: -2.06e-06\n",
      "    var: 2.453811e-03, Δvar: 8.39e-06\n",
      "    Elapsed time: 0.024918495 s\n",
      "Done sweep 4, max bond dimension: 8\n",
      "    E: -2.586809e+00, ΔE: -8.10e-09\n",
      "    var: 2.453189e-03, Δvar: -6.21e-07\n",
      "    Elapsed time: 0.019006878 s\n",
      "The variance of psi has converged. Finished DMRG.\n",
      "The energy after each sweep was: [-2.5810355896524597, -2.5868068715740478, -2.5868089272859085, -2.586808935386919]\n"
     ]
    }
   ],
   "source": [
    "# Maximum bond dimension per sweep.\n",
    "maxm = [10, 20, 40, 40, 40, 40]\n",
    "# Cutoff in SVD factorization per sweep.\n",
    "cutoff = [1e-5, 1e-5, 1e-6, 1e-8, 1e-8, 1e-8]\n",
    "dmrg_opts = DMRGOpts(\"DMRG3S\", maxm, cutoff)\n",
    "\n",
    "# Alternatively, if you only want one cutoff value, e.g. 1e-6, you could start the options as:\n",
    "dmrg_opts = DMRGOpts(\"DMRG3S\", maxm, 1e-6)\n",
    "\n",
    "# Now let's find the ground state.\n",
    "E, var = dmrg!(psi, H, dmrg_opts)\n",
    "\n",
    "println(\"The energy after each sweep was: $E\")"
   ]
  }
 ],
 "metadata": {
  "kernelspec": {
   "display_name": "Julia 1.2.0",
   "language": "julia",
   "name": "julia-1.2"
  },
  "language_info": {
   "file_extension": ".jl",
   "mimetype": "application/julia",
   "name": "julia",
   "version": "1.2.0"
  }
 },
 "nbformat": 4,
 "nbformat_minor": 4
}
